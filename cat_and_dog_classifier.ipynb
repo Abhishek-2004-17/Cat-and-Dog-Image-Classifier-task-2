{
  "nbformat": 4,
  "nbformat_minor": 0,
  "metadata": {
    "colab": {
      "provenance": [],
      "toc_visible": true,
      "authorship_tag": "ABX9TyNQsDl6EWmIquFj18k2autl"
    },
    "kernelspec": {
      "name": "python3",
      "display_name": "Python 3"
    },
    "language_info": {
      "name": "python"
    }
  },
  "cells": [
    {
      "cell_type": "code",
      "execution_count": null,
      "metadata": {
        "id": "LoCQF4xZf-RV"
      },
      "outputs": [],
      "source": [
        "import numpy"
      ]
    }
  ]
}